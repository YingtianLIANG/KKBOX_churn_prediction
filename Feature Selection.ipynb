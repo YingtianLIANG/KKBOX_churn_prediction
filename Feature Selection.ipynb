{
 "cells": [
  {
   "cell_type": "markdown",
   "metadata": {
    "toc": true
   },
   "source": [
    "<h1>Table of Contents<span class=\"tocSkip\"></span></h1>\n",
    "<div class=\"toc\"><ul class=\"toc-item\"></ul></div>"
   ]
  },
  {
   "cell_type": "code",
   "execution_count": 7,
   "metadata": {},
   "outputs": [],
   "source": [
    "# use feature importance for feature selection\n",
    "import numpy as np\n",
    "import pandas as pd\n",
    "from numpy import loadtxt\n",
    "from numpy import sort\n",
    "from xgboost import XGBClassifier\n",
    "from sklearn.model_selection import train_test_split\n",
    "from sklearn.metrics import accuracy_score\n",
    "from sklearn.feature_selection import SelectFromModel"
   ]
  },
  {
   "cell_type": "code",
   "execution_count": 2,
   "metadata": {},
   "outputs": [
    {
     "data": {
      "text/plain": [
       "\"features = np.array(['last_auto_renew',\\n 'avg_songs_60days',\\n 'registered_via_7',\\n 'n_cancel',\\n 'avg_songs_90days',\\n 'total_songs',\\n 'total_mins',\\n 'avg_unq_60days',\\n 'avg_list_price',\\n 'registration_days',\\n 'avg_songs_compare60days',\\n 'n_trans',\\n 'avg_unq_90days',\\n 'avg_auto_renew',\\n 'avg_mins_60days',\\n 'n_trans_unq',\\n 'num_unq',\\n 'avg_secs_compare60days',\\n 'AVG_actual_paid',\\n 'avg_songs_compare90days',\\n 'avg_songs_compare30days',\\n 'avg_unq_compare60days',\\n 'avg_mins_90days',\\n 'avg_secs_compare30days',\\n 'avg_unq_compare30days',\\n 'avg_secs_compare90days',\\n 'avg_unq_compare90days',\\n 'avg_plan_days',\\n 'unlike_rate',\\n 'like_rate',\\n 'like_rate_60days',\\n 'city_median',\\n 'last_1_churn',\\n 'unlike_rate_60days',\\n 'unlike_rate_compare90days',\\n 'like_rate_compare30days',\\n 'unlike_rate_90days',\\n 'have_user_logs',\\n 'have_members',\\n 'last_2_churn',\\n 'bd_1',\\n 'last_3_churn',\\n 'last_4_churn',\\n 'last_5_churn',\\n 'bd_0',\\n 'unlike_rate_compare30days',\\n 'unlike_rate_compare60days',\\n 'like_rate_compare60days',\\n 'like_rate_compare90days',\\n 'city_big',\\n 'city_other',\\n 'city_small',\\n 'registered_via_0',\\n 'registered_via_9',\\n 'registered_via_other',\\n 'bd_-1',\\n 'like_rate_90days'])\""
      ]
     },
     "execution_count": 2,
     "metadata": {},
     "output_type": "execute_result"
    }
   ],
   "source": [
    "'''features = np.array(['last_auto_renew',\n",
    " 'avg_songs_60days',\n",
    " 'registered_via_7',\n",
    " 'n_cancel',\n",
    " 'avg_songs_90days',\n",
    " 'total_songs',\n",
    " 'total_mins',\n",
    " 'avg_unq_60days',\n",
    " 'avg_list_price',\n",
    " 'registration_days',\n",
    " 'avg_songs_compare60days',\n",
    " 'n_trans',\n",
    " 'avg_unq_90days',\n",
    " 'avg_auto_renew',\n",
    " 'avg_mins_60days',\n",
    " 'n_trans_unq',\n",
    " 'num_unq',\n",
    " 'avg_secs_compare60days',\n",
    " 'AVG_actual_paid',\n",
    " 'avg_songs_compare90days',\n",
    " 'avg_songs_compare30days',\n",
    " 'avg_unq_compare60days',\n",
    " 'avg_mins_90days',\n",
    " 'avg_secs_compare30days',\n",
    " 'avg_unq_compare30days',\n",
    " 'avg_secs_compare90days',\n",
    " 'avg_unq_compare90days',\n",
    " 'avg_plan_days',\n",
    " 'unlike_rate',\n",
    " 'like_rate',\n",
    " 'like_rate_60days',\n",
    " 'city_median',\n",
    " 'last_1_churn',\n",
    " 'unlike_rate_60days',\n",
    " 'unlike_rate_compare90days',\n",
    " 'like_rate_compare30days',\n",
    " 'unlike_rate_90days',\n",
    " 'have_user_logs',\n",
    " 'have_members',\n",
    " 'last_2_churn',\n",
    " 'bd_1',\n",
    " 'last_3_churn',\n",
    " 'last_4_churn',\n",
    " 'last_5_churn',\n",
    " 'bd_0',\n",
    " 'unlike_rate_compare30days',\n",
    " 'unlike_rate_compare60days',\n",
    " 'like_rate_compare60days',\n",
    " 'like_rate_compare90days',\n",
    " 'city_big',\n",
    " 'city_other',\n",
    " 'city_small',\n",
    " 'registered_via_0',\n",
    " 'registered_via_9',\n",
    " 'registered_via_other',\n",
    " 'bd_-1',\n",
    " 'like_rate_90days'])'''"
   ]
  },
  {
   "cell_type": "code",
   "execution_count": 3,
   "metadata": {},
   "outputs": [
    {
     "data": {
      "text/plain": [
       "'importance = np.array([0.        , 0.        , 0.        , 0.        , 0.        ,\\n       0.        , 0.        , 0.        , 0.        , 0.        ,\\n       0.        , 0.        , 0.        , 0.        , 0.        ,\\n       0.        , 0.        , 0.        , 0.        , 0.        ,\\n       0.0006699 , 0.00098303, 0.00121894, 0.00242734, 0.00342978,\\n       0.00363051, 0.00410209, 0.00417466, 0.00529354, 0.00680448,\\n       0.00685531, 0.00700479, 0.00706738, 0.00726252, 0.00784994,\\n       0.00814589, 0.00857561, 0.00888073, 0.01093964, 0.01479251,\\n       0.01760849, 0.01824646, 0.01931317, 0.019883  , 0.02022266,\\n       0.02126939, 0.02554749, 0.02957831, 0.0333267 , 0.03658906,\\n       0.03940495, 0.04246793, 0.05384875, 0.05773023, 0.08601544,\\n       0.09623662, 0.2626028 ])'"
      ]
     },
     "execution_count": 3,
     "metadata": {},
     "output_type": "execute_result"
    }
   ],
   "source": [
    "'''importance = np.array([0.        , 0.        , 0.        , 0.        , 0.        ,\n",
    "       0.        , 0.        , 0.        , 0.        , 0.        ,\n",
    "       0.        , 0.        , 0.        , 0.        , 0.        ,\n",
    "       0.        , 0.        , 0.        , 0.        , 0.        ,\n",
    "       0.0006699 , 0.00098303, 0.00121894, 0.00242734, 0.00342978,\n",
    "       0.00363051, 0.00410209, 0.00417466, 0.00529354, 0.00680448,\n",
    "       0.00685531, 0.00700479, 0.00706738, 0.00726252, 0.00784994,\n",
    "       0.00814589, 0.00857561, 0.00888073, 0.01093964, 0.01479251,\n",
    "       0.01760849, 0.01824646, 0.01931317, 0.019883  , 0.02022266,\n",
    "       0.02126939, 0.02554749, 0.02957831, 0.0333267 , 0.03658906,\n",
    "       0.03940495, 0.04246793, 0.05384875, 0.05773023, 0.08601544,\n",
    "       0.09623662, 0.2626028 ])'''"
   ]
  },
  {
   "cell_type": "code",
   "execution_count": 4,
   "metadata": {
    "scrolled": true
   },
   "outputs": [],
   "source": [
    "#importance_sort = [importance[i] for i in np.argsort(-importance)]"
   ]
  },
  {
   "cell_type": "code",
   "execution_count": 9,
   "metadata": {},
   "outputs": [],
   "source": [
    "test = pd.read_csv('test.csv')\n",
    "train = pd.read_csv('train.csv')\n",
    "X_train = train.drop(columns=['is_churn']).values\n",
    "y_train=train.is_churn.values\n",
    "X_test = test.drop(columns=['is_churn']).values\n",
    "y_test=test.is_churn.values"
   ]
  },
  {
   "cell_type": "code",
   "execution_count": null,
   "metadata": {},
   "outputs": [],
   "source": [
    "# fit model on all training data\n",
    "model = XGBClassifier()\n",
    "model.fit(X_train, y_train)"
   ]
  },
  {
   "cell_type": "code",
   "execution_count": null,
   "metadata": {},
   "outputs": [],
   "source": [
    "# make predictions for test data and evaluate\n",
    "y_pred = model.predict(X_test)\n",
    "predictions = [round(value) for value in y_pred]\n",
    "accuracy = accuracy_score(y_test, predictions)\n",
    "print(\"Accuracy: %.2f%%\" % (accuracy * 100.0))\n",
    "# Fit model using each importance as a threshold\n",
    "thresholds = sort(model.feature_importances_)"
   ]
  },
  {
   "cell_type": "code",
   "execution_count": null,
   "metadata": {},
   "outputs": [],
   "source": [
    "for thresh in thresholds:\n",
    "    # select features using threshold\n",
    "    selection = SelectFromModel(model, threshold=thresh, prefit=True)\n",
    "    select_X_train = selection.transform(X_train)\n",
    "    # train model\n",
    "    selection_model = XGBClassifier()\n",
    "    selection_model.fit(select_X_train, y_train)\n",
    "    # eval model\n",
    "    select_X_test = selection.transform(X_test)\n",
    "    y_pred = selection_model.predict(select_X_test)\n",
    "    predictions = [round(value) for value in y_pred]\n",
    "    accuracy = accuracy_score(y_test, predictions)\n",
    "    print(\"Thresh=%.3f, n=%d, Accuracy: %.2f%%\" % (thresh, select_X_train.shape[1], accuracy*100.0))"
   ]
  },
  {
   "cell_type": "code",
   "execution_count": null,
   "metadata": {},
   "outputs": [],
   "source": []
  }
 ],
 "metadata": {
  "kernelspec": {
   "display_name": "Python 3",
   "language": "python",
   "name": "python3"
  },
  "language_info": {
   "codemirror_mode": {
    "name": "ipython",
    "version": 3
   },
   "file_extension": ".py",
   "mimetype": "text/x-python",
   "name": "python",
   "nbconvert_exporter": "python",
   "pygments_lexer": "ipython3",
   "version": "3.7.3"
  },
  "toc": {
   "base_numbering": 1,
   "nav_menu": {},
   "number_sections": true,
   "sideBar": true,
   "skip_h1_title": false,
   "title_cell": "Table of Contents",
   "title_sidebar": "Contents",
   "toc_cell": true,
   "toc_position": {},
   "toc_section_display": true,
   "toc_window_display": false
  }
 },
 "nbformat": 4,
 "nbformat_minor": 2
}
